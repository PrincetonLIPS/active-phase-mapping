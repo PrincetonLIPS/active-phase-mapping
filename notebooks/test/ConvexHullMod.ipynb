{
 "cells": [
  {
   "cell_type": "code",
   "execution_count": 1,
   "id": "f84b7c44-20b1-456a-8ccc-7317bbdb15c4",
   "metadata": {
    "tags": []
   },
   "outputs": [
    {
     "name": "stderr",
     "output_type": "stream",
     "text": [
      "/home/dcai/miniconda3/envs/apm/lib/python3.10/site-packages/tqdm/auto.py:21: TqdmWarning: IProgress not found. Please update jupyter and ipywidgets. See https://ipywidgets.readthedocs.io/en/stable/user_install.html\n",
      "  from .autonotebook import tqdm as notebook_tqdm\n"
     ]
    }
   ],
   "source": [
    "#import numpy as np\n",
    "import numpy.random as npr\n",
    "\n",
    "import jax\n",
    "import jax.numpy as jnp \n",
    "import jax.random as jrnd\n",
    "import jax.scipy.stats as jsps\n",
    "import jax.scipy.linalg as spla\n",
    "from jax.config import config\n",
    "config.update(\"jax_enable_x64\", True)\n",
    "from jax.scipy.stats import gaussian_kde\n",
    "\n",
    "#import tqdm\n",
    "import matplotlib.pyplot as plt\n",
    "%matplotlib inline\n",
    "%config InlineBackend.figure_format='retina'\n",
    "\n",
    "import sys\n",
    "sys.path.append(\"../\")\n",
    "\n",
    "from search_no_gpjax import generate_true_function\n",
    "#from scipy.spatial import ConvexHull\n",
    "\n",
    "import gpjax as gpx\n",
    "from jax import grad, jit\n",
    "import jaxkern as jk\n",
    "import optax as ox\n",
    "from jaxutils import Dataset"
   ]
  },
  {
   "cell_type": "code",
   "execution_count": 2,
   "id": "1751f680-de9b-4257-baff-93b500332028",
   "metadata": {},
   "outputs": [
    {
     "name": "stdout",
     "output_type": "stream",
     "text": [
      "gpu\n"
     ]
    },
    {
     "data": {
      "text/plain": [
       "[StreamExecutorGpuDevice(id=0, process_index=0, slice_index=0)]"
      ]
     },
     "execution_count": 2,
     "metadata": {},
     "output_type": "execute_result"
    }
   ],
   "source": [
    "# Check if GPU being used\n",
    "print(jax.default_backend())\n",
    "jax.devices()"
   ]
  },
  {
   "cell_type": "markdown",
   "id": "9e1d465f-0314-4370-882b-277888afcc67",
   "metadata": {
    "tags": []
   },
   "source": [
    "# Original code"
   ]
  },
  {
   "cell_type": "code",
   "execution_count": 3,
   "id": "461afc8f-c6ec-460b-ac0b-667bb359b03b",
   "metadata": {
    "tags": []
   },
   "outputs": [],
   "source": [
    "\"\"\"\n",
    "This module provides the ConvexHull class.\n",
    "\"\"\"\n",
    "\n",
    "import itertools\n",
    "import numpy as np\n",
    "from typing import List, Sized, Union\n",
    "from scipy.interpolate import griddata\n",
    "from scipy.spatial import ConvexHull as ConvexHullSciPy\n",
    "from scipy.spatial import QhullError\n",
    "\n",
    "class ConvexHullMod:\n",
    "    \"\"\"This class provides functionality for extracting the convex hull\n",
    "    of the (free) energy of mixing. It is based on the `convex hull\n",
    "    calculator in SciPy\n",
    "    <http://docs.scipy.org/doc/scipy-dev/reference/\\\n",
    "generated/scipy.spatial.ConvexHull.html>`_.\n",
    "    Parameters\n",
    "    ----------\n",
    "    concentrations : list(float) or list(list(float))\n",
    "        concentrations for each structure listed as ``[[c1, c2], [c1, c2],\n",
    "        ...]``; for binaries, in which case there is only one independent\n",
    "        concentration, the format ``[c1, c2, c3, ...]`` works as well.\n",
    "    energies : list(float)\n",
    "        energy (or energy of mixing) for each structure\n",
    "    Attributes\n",
    "    ----------\n",
    "    concentrations : np.ndarray\n",
    "        concentrations of the `N` structures on the convex hull\n",
    "    energies : np.ndarray\n",
    "        energies of the `N` structures on the convex hull\n",
    "    dimensions : int\n",
    "        number of independent concentrations needed to specify a point in\n",
    "        concentration space (1 for binaries, 2 for ternaries etc.)\n",
    "    structures : list(int)\n",
    "        indices of structures that constitute the convex hull (indices are\n",
    "        defined by the order of their concentrations and energies are fed when\n",
    "        initializing the ConvexHull object)\n",
    "    Examples\n",
    "    --------\n",
    "    A `ConvexHull` object is easily initialized by providing lists of\n",
    "    concentrations and energies::\n",
    "        >>> data = {'concentration': [0,    0.2,  0.2,  0.3,  0.4,  0.5,  0.8,  1.0],\n",
    "        ...         'mixing_energy': [0.1, -0.2, -0.1, -0.2,  0.2, -0.4, -0.2, -0.1]}\n",
    "        >>> hull = ConvexHull(data['concentration'], data['mixing_energy'])\n",
    "    Now one can for example access the points along the convex hull directly::\n",
    "        >>> for c, e in zip(hull.concentrations, hull.energies):\n",
    "        ...     print(c, e)\n",
    "        0.0 0.1\n",
    "        0.2 -0.2\n",
    "        0.5 -0.4\n",
    "        1.0 -0.1\n",
    "    or plot the convex hull along with the original data using e.g., matplotlib::\n",
    "        >>> import matplotlib.pyplot as plt\n",
    "        >>> plt.scatter(data['concentration'], data['mixing_energy'], color='darkred')\n",
    "        >>> plt.plot(hull.concentrations, hull.energies)\n",
    "        >>> plt.show(block=False)\n",
    "    It is also possible to extract structures at or close to the convex hull::\n",
    "        >>> low_energy_structures = hull.extract_low_energy_structures(\n",
    "        ...     data['concentration'], data['mixing_energy'],\n",
    "        ...     energy_tolerance=0.005)\n",
    "    A complete example can be found in the :ref:`basic tutorial\n",
    "    <tutorial_enumerate_structures>`.\n",
    "    \"\"\"\n",
    "\n",
    "    def __init__(self,\n",
    "                 concentrations: Union[List[float], List[List[float]]],\n",
    "                 energies: List[float]) -> None:\n",
    "        assert len(concentrations) == len(energies)\n",
    "        # Prepare data in format suitable for SciPy-ConvexHull\n",
    "        concentrations = np.array(concentrations)\n",
    "        energies = np.array(energies)\n",
    "        points = np.column_stack((concentrations, energies))\n",
    "        self.dimensions = len(points[0]) - 1\n",
    "\n",
    "        # Construct convex hull\n",
    "        hull = ConvexHullSciPy(points, qhull_options='Qs')\n",
    "\n",
    "        # Collect convex hull points in handy arrays\n",
    "        concentrations = []  # type: ignore\n",
    "        energies = []  # type: ignore\n",
    "        \n",
    "        for vertex in hull.vertices:\n",
    "            if self.dimensions == 1:\n",
    "                concentrations.append(points[vertex][0])\n",
    "            else:\n",
    "                concentrations.append(points[vertex][0:-1])\n",
    "            energies.append(points[vertex][-1])\n",
    "        \n",
    "        concentrations = np.array(concentrations)\n",
    "        energies = np.array(energies)\n",
    "\n",
    "        structures = hull.vertices\n",
    "        # If there is just one independent concentration, we'd better sort\n",
    "        # according to it\n",
    "        if self.dimensions == 1:\n",
    "            ces = list(zip(*sorted(zip(concentrations, energies, structures))))\n",
    "            self.concentrations = np.array(ces[0])\n",
    "            self.energies = np.array(ces[1])\n",
    "            self.structures = np.array(ces[2])\n",
    "        else:\n",
    "            self.concentrations = concentrations\n",
    "            self.energies = energies\n",
    "            self.structures = structures\n",
    "\n",
    "        # Remove points that are above the \"pure components plane\"\n",
    "        self._remove_points_above_tie_plane()\n",
    "\n",
    "    def _remove_points_above_tie_plane(self, tol: float = 1e-3) -> None:\n",
    "        \"\"\"\n",
    "        Remove all points on the convex hull that correspond to maximum rather\n",
    "        than minimum energy.\n",
    "        Parameters\n",
    "        ----------\n",
    "        tol\n",
    "            Tolerance for what energy constitutes a lower one.\n",
    "        \"\"\"\n",
    "\n",
    "        # Identify the \"complex concentration hull\", i.e. the extremal\n",
    "        # concentrations. In the simplest case, these should simply be the\n",
    "        # pure components.\n",
    "        if self.dimensions == 1:\n",
    "            # Then the ConvexHullScipy function doesn't work, so we just pick\n",
    "            # the indices of the lowest and highest concentrations.\n",
    "            vertices = []\n",
    "            vertices.append(np.argmin(self.concentrations))\n",
    "            vertices.append(np.argmax(self.concentrations))\n",
    "            vertices = np.array(vertices)\n",
    "        else:\n",
    "            concentration_hull = ConvexHullSciPy(self.concentrations,qhull_options='Qs')\n",
    "            vertices = concentration_hull.vertices\n",
    "\n",
    "        # Remove all points of the convex energy hull that have an energy that\n",
    "        # is higher than what would be gotten with pure components at the same\n",
    "        # concentration. These points are mathematically on the convex hull,\n",
    "        # but in the physically uninteresting upper part, i.e. they maximize\n",
    "        # rather than minimize energy.\n",
    "        to_delete = []\n",
    "        for i, concentration in enumerate(self.concentrations):\n",
    "            # The points on the convex concentration hull should always be\n",
    "            # included, so skip them.\n",
    "            if i in vertices:\n",
    "                continue\n",
    "\n",
    "            # The energy obtained as a linear combination of concentrations on\n",
    "            # the convex hull is the \"z coordinate\" of the position on a\n",
    "            # (hyper)plane in the (number of independent concentrations +\n",
    "            # 1)-dimensional (N-D) space. This plane is spanned by N points.\n",
    "            # If there are more vertices on the convex hull, we need to loop\n",
    "            # over all combinations of N vertices.\n",
    "            for plane in itertools.combinations(vertices,\n",
    "                                                min(len(vertices),\n",
    "                                                    self.dimensions + 1)):\n",
    "                # Calculate energy that would be gotten with pure components\n",
    "                # with ascribed concentration.\n",
    "                energy_pure = griddata(self.concentrations[np.array(plane)],\n",
    "                                       self.energies[np.array(plane)],\n",
    "                                       concentration,\n",
    "                                       method='linear')\n",
    "\n",
    "                # Prepare to delete if the energy was lowered. `griddata` gives\n",
    "                # NaN if the concentration is outside the triangle formed by\n",
    "                # the three vertices. The result of the below comparison is\n",
    "                # then False, which is what we want.\n",
    "                if energy_pure < self.energies[i] - tol:\n",
    "                    to_delete.append(i)\n",
    "                    break\n",
    "\n",
    "        # Finally remove all points\n",
    "        self.concentrations = np.delete(self.concentrations, to_delete, 0)\n",
    "        self.energies = np.delete(self.energies, to_delete, 0)\n",
    "        self.structures = list(np.delete(self.structures, to_delete, 0))\n",
    "\n",
    "    def get_energy_at_convex_hull(self, target_concentrations:\n",
    "                                  Union[List[float],\n",
    "                                        List[List[float]]]) -> np.ndarray:\n",
    "        \"\"\"Returns the energy of the convex hull at specified concentrations.\n",
    "        If any concentration is outside the allowed range, NaN is\n",
    "        returned.\n",
    "        Parameters\n",
    "        ----------\n",
    "        target_concentrations\n",
    "            concentrations at target points\n",
    "            If there is one independent concentration, a list of\n",
    "            floats is sufficient. Otherwise, the concentrations ought\n",
    "            to be provided as a list of lists, such as ``[[0.1, 0.2],\n",
    "            [0.3, 0.1], ...]``.\n",
    "        \"\"\"\n",
    "        if self.dimensions > 1 and isinstance(target_concentrations[0], Sized):\n",
    "            assert len(target_concentrations[0]) == self.dimensions\n",
    "\n",
    "        # Loop over all complexes of N+1 points to make sure that the lowest\n",
    "        # energy plane is used in the end. This is needed in two dimensions\n",
    "        # but in higher.\n",
    "        hull_candidate_energies = []\n",
    "        for plane in itertools.combinations(range(len(self.energies)),\n",
    "                                            min(len(self.energies),\n",
    "                                                self.dimensions + 1)):\n",
    "            try:\n",
    "                plane_energies = griddata(self.concentrations[list(plane)],\n",
    "                                          self.energies[list(plane)],\n",
    "                                          np.array(target_concentrations),\n",
    "                                          method='linear')\n",
    "            except QhullError:\n",
    "                # If the points lie on a line, the convex hull will fail, but\n",
    "                # we do not need to care about these \"planes\" anyway\n",
    "                continue\n",
    "            hull_candidate_energies.append(plane_energies)\n",
    "\n",
    "        # Pick out the lowest energies found\n",
    "        hull_energies = np.nanmin(hull_candidate_energies, axis=0)\n",
    "        return hull_energies\n",
    "\n",
    "    def extract_low_energy_structures(self, concentrations:\n",
    "                                      Union[List[float],\n",
    "                                            List[List[float]]],\n",
    "                                      energies: List[float],\n",
    "                                      energy_tolerance: float) -> List[int]:\n",
    "        \"\"\"Returns the indices of energies that lie within a certain\n",
    "        tolerance of the convex hull.\n",
    "        Parameters\n",
    "        ----------\n",
    "        concentrations\n",
    "            concentrations of candidate structures\n",
    "            If there is one independent concentration, a list of\n",
    "            floats is sufficient. Otherwise, the concentrations must\n",
    "            be provided as a list of lists, such as ``[[0.1, 0.2],\n",
    "            [0.3, 0.1], ...]``.\n",
    "        energies\n",
    "            energies of candidate structures\n",
    "        energy_tolerance\n",
    "            include structures with an energy that is at most this far\n",
    "            from the convex hull\n",
    "        \"\"\"\n",
    "        # Convert to numpy arrays, can be necessary if, for example,\n",
    "        # they are Pandas Series with \"gaps\"\n",
    "        concentrations = np.array(concentrations)\n",
    "        energies = np.array(energies)\n",
    "\n",
    "        n_points = len(concentrations)\n",
    "        if len(energies) != n_points:\n",
    "            raise ValueError('concentrations and energies must have '\n",
    "                             'the same length')\n",
    "\n",
    "        # Calculate energy at convex hull for specified concentrations\n",
    "        hull_energies = self.get_energy_at_convex_hull(concentrations)\n",
    "\n",
    "        # Extract those that are close enough\n",
    "        close_to_hull = [i for i in range(n_points)\n",
    "                         if energies[i] <= hull_energies[i] + energy_tolerance]\n",
    "\n",
    "        return close_to_hull"
   ]
  },
  {
   "cell_type": "code",
   "execution_count": null,
   "id": "dd02259d-6176-46ca-9a65-2ffe49d29a83",
   "metadata": {},
   "outputs": [],
   "source": []
  },
  {
   "cell_type": "code",
   "execution_count": 4,
   "id": "b6144a99-a9f7-4e17-a6ff-e0eeeadec1e0",
   "metadata": {
    "tags": []
   },
   "outputs": [],
   "source": [
    "def convex_envelope(x, fs, tol=0):\n",
    "    data = {\"concentration\": x, \"mixing_energy\": fs}\n",
    "    hull = ConvexHullMod(data['concentration'], data['mixing_energy'])\n",
    "    \n",
    "    if tol > 0:\n",
    "        low_energy_structures = hull.extract_low_energy_structures(data['concentration'], data['mixing_energy'], energy_tolerance=tol)\n",
    "    return np.array(hull.structures)"
   ]
  },
  {
   "cell_type": "code",
   "execution_count": 5,
   "id": "1b94fb07-13ea-483a-9f4c-df253021f25c",
   "metadata": {
    "tags": []
   },
   "outputs": [],
   "source": [
    "def convex_envelope_fast(x, fs):\n",
    "    points = np.column_stack((x, fs))\n",
    "    hull = ConvexHullSciPy(points)\n",
    "    down_facing = hull.equations[:,-2] < 0\n",
    "    return np.unique(hull.simplices[down_facing,:].ravel())"
   ]
  },
  {
   "cell_type": "markdown",
   "id": "20925282-5233-405c-96dc-4fc814804e76",
   "metadata": {},
   "source": [
    "# Modifications"
   ]
  },
  {
   "cell_type": "code",
   "execution_count": 6,
   "id": "2460d3cd-1911-4ae5-bf4f-2fe0bab85393",
   "metadata": {
    "tags": []
   },
   "outputs": [],
   "source": [
    "def compute_hull(concentrations, energies, tol=1e-4):\n",
    "    assert len(concentrations) == len(energies)\n",
    "    # Prepare data in format suitable for SciPy-ConvexHull\n",
    "    #concentrations = np.array(concentrations)\n",
    "    #energies = np.array(energies)\n",
    "    points = np.column_stack((concentrations, energies))\n",
    "    dimensions = len(points[0]) - 1\n",
    "\n",
    "    # Construct convex hull\n",
    "    hull = ConvexHullSciPy(points, qhull_options='Qs')\n",
    "    structures = hull.vertices\n",
    "\n",
    "    concentrations = points[hull.vertices, :-1]\n",
    "    energies = points[hull.vertices, -1]\n",
    "    \n",
    "    #concentrations = points[hull.vertices][:, 0:-1]\n",
    "    if dimensions == 1:\n",
    "        concentrations = concentrations.ravel()\n",
    "        inds = concentrations.argsort()\n",
    "        concentrations = concentrations[inds]\n",
    "        energies = energies[inds]\n",
    "        structures = structures[inds]\n",
    "\n",
    "    # Remove points that are above the \"pure components plane\"\n",
    "    if dimensions == 1:\n",
    "        vertices = np.array([concentrations.argmin(), concentrations.argmax()])\n",
    "    else:\n",
    "        concentration_hull = ConvexHullSciPy(concentrations, qhull_options='Qs')\n",
    "        vertices = concentration_hull.vertices\n",
    "        \n",
    "    concentrations, energies, structures = remove_points_above_tie_plane_vectorized(vertices, structures, concentrations, energies, tol=tol)\n",
    "\n",
    "    return concentrations, energies, structures"
   ]
  },
  {
   "cell_type": "code",
   "execution_count": 7,
   "id": "b29d5dde-dbda-45e4-bcd4-6fe273709e17",
   "metadata": {
    "tags": []
   },
   "outputs": [],
   "source": [
    "def remove_points_above_tie_plane(vertices, structures, concentrations, energies):\n",
    "    \n",
    "    to_delete = []\n",
    "    for i, concentration in enumerate(concentrations):\n",
    "\n",
    "        if i in vertices:\n",
    "            continue\n",
    "\n",
    "        for plane in itertools.combinations(vertices, min(len(vertices), dimensions + 1)):\n",
    "\n",
    "            \n",
    "            energy_pure = griddata(concentrations[np.array(plane)],\n",
    "                                   energies[np.array(plane)],\n",
    "                                   concentration,\n",
    "                                   method='linear')\n",
    "           \n",
    "            \n",
    "            if energy_pure < energies[i] - tol:\n",
    "                to_delete.append(i)\n",
    "                break\n",
    "    \n",
    "   \n",
    "    concentrations = np.delete(concentrations, to_delete, 0)\n",
    "    energies = np.delete(energies, to_delete, 0)\n",
    "    structures = np.delete(structures, to_delete, 0)\n",
    "    \n",
    "    return concentrations, energies, structures\n"
   ]
  },
  {
   "cell_type": "code",
   "execution_count": 8,
   "id": "e8a253b8-3760-49f8-ae6f-c728e14ea593",
   "metadata": {
    "tags": []
   },
   "outputs": [],
   "source": [
    "def remove_points_above_tie_plane_vectorized(vertices, structures, concentrations, energies, tol=1e-3):\n",
    "    \n",
    "    dimensions = len(concentrations.shape)\n",
    "    \n",
    "    mask = np.ones(concentrations.shape[0], dtype=bool)\n",
    "    mask[vertices] = False\n",
    "    \n",
    "    for plane in itertools.combinations(vertices, min(len(vertices), dimensions + 1)):\n",
    "        \n",
    "        plane_concentrations = concentrations[list(plane)]\n",
    "        plane_energies = energies[list(plane)]\n",
    "        \n",
    "        plane_energy_pure = griddata(plane_concentrations, plane_energies, concentrations[mask], method='linear')\n",
    "        mask[mask] &= plane_energy_pure >= energies[mask] - tol\n",
    "    \n",
    "    # include\n",
    "    mask[vertices] = True\n",
    "    \n",
    "    return concentrations[mask], energies[mask], structures[mask]\n"
   ]
  },
  {
   "cell_type": "code",
   "execution_count": 9,
   "id": "05d2409c-1147-4829-985f-192f420acadf",
   "metadata": {
    "tags": []
   },
   "outputs": [],
   "source": [
    "def convelope(design_space, knot_y):\n",
    "\n",
    "    N, D = design_space.shape\n",
    "    deriv_marg_var = 100\n",
    "    num_dual = 200\n",
    "    d_kernel = jax.jit(jax.vmap(jax.grad(jax.grad(lambda x1, x2, ls: kernel_old(x1, x2, ls)[0,0], argnums=0), argnums=1), in_axes=(0,0,None)))\n",
    "    # TODO: \n",
    "    #deriv_marg_var = np.max(jnp.diag(d_kernel(knot_x, knot_x, ls)))\n",
    "    #print(deriv_marg_var)\n",
    "    s = jnp.linspace(-3*jnp.sqrt(deriv_marg_var), 3*jnp.sqrt(deriv_marg_var), num_dual)\n",
    "    ss = jnp.meshgrid(*[s.ravel()]*D)\n",
    "    s = jnp.array([sx.flatten() for sx in ss]).T\n",
    "\n",
    "    knot_y = jnp.atleast_2d(knot_y) # samples x num_primal\n",
    "    #print(knot_y.shape)\n",
    "    \n",
    "    prod = (design_space @ s.T).T\n",
    "    #print(prod.shape)\n",
    "    \n",
    "    # compute the conjugate\n",
    "    lft1 = jnp.max(prod[jnp.newaxis,:,:] - knot_y[:,jnp.newaxis,:],  axis=2) # samples x num_dual\n",
    "    #print(lft1.shape)\n",
    "    # compute the biconjugate\n",
    "    lft2 = jnp.max(prod[jnp.newaxis,:,:] - lft1[:,:,jnp.newaxis],  axis=1) # samples x num_primal\n",
    "    \n",
    "    return lft2"
   ]
  },
  {
   "cell_type": "code",
   "execution_count": 10,
   "id": "409bf0ae-a2a9-4acc-acae-2ae53b085702",
   "metadata": {
    "tags": []
   },
   "outputs": [],
   "source": [
    "def is_vertex(points):\n",
    "    N, D = points.shape\n",
    "    vertices = convex_envelope_fast(points[:, :-1], points[:, -1])\n",
    "    s = np.zeros(N)\n",
    "    s[vertices] = 1\n",
    "    return s.astype(\"bool\")\n",
    "\n",
    "@jit\n",
    "def is_tight(design_space, true_y):\n",
    "\n",
    "    points = jnp.hstack([design_space, true_y[:, jnp.newaxis]])\n",
    "    _scipy_hull = lambda points: is_vertex(points) \n",
    "\n",
    "    result_shape_dtype = jax.ShapeDtypeStruct(\n",
    "          shape=jnp.broadcast_shapes(true_y.shape),\n",
    "          dtype='bool')\n",
    "\n",
    "    return jax.pure_callback(_scipy_hull, result_shape_dtype, points, vectorized=False)"
   ]
  },
  {
   "cell_type": "code",
   "execution_count": null,
   "id": "39b7b9b8-03e3-42fa-851e-e0ba5fdd61bb",
   "metadata": {},
   "outputs": [],
   "source": []
  },
  {
   "cell_type": "markdown",
   "id": "55867a9d-f36b-496f-a27f-86169b4e1ac2",
   "metadata": {
    "jp-MarkdownHeadingCollapsed": true,
    "tags": []
   },
   "source": [
    "## Scratch"
   ]
  },
  {
   "cell_type": "code",
   "execution_count": 11,
   "id": "376a0335-00dd-4a18-852f-cc59a193892b",
   "metadata": {
    "tags": []
   },
   "outputs": [
    {
     "ename": "NameError",
     "evalue": "name 'design_space' is not defined",
     "output_type": "error",
     "traceback": [
      "\u001b[0;31m---------------------------------------------------------------------------\u001b[0m",
      "\u001b[0;31mNameError\u001b[0m                                 Traceback (most recent call last)",
      "Cell \u001b[0;32mIn[11], line 2\u001b[0m\n\u001b[1;32m      1\u001b[0m tol \u001b[38;5;241m=\u001b[39m \u001b[38;5;241m1e-3\u001b[39m \n\u001b[0;32m----> 2\u001b[0m concentrations \u001b[38;5;241m=\u001b[39m \u001b[43mdesign_space\u001b[49m\n\u001b[1;32m      3\u001b[0m energies \u001b[38;5;241m=\u001b[39m true_y\n\u001b[1;32m      4\u001b[0m points \u001b[38;5;241m=\u001b[39m np\u001b[38;5;241m.\u001b[39mcolumn_stack((concentrations, energies))\n",
      "\u001b[0;31mNameError\u001b[0m: name 'design_space' is not defined"
     ]
    }
   ],
   "source": [
    "tol = 1e-3 \n",
    "concentrations = design_space\n",
    "energies = true_y\n",
    "points = np.column_stack((concentrations, energies))\n",
    "dimensions = len(points[0]) - 1\n",
    "hull = ConvexHullSciPy(points, qhull_options='Qs')\n",
    "structures = hull.vertices"
   ]
  },
  {
   "cell_type": "code",
   "execution_count": 31,
   "id": "ce15e197-b19c-4b1c-beef-d02a561e866e",
   "metadata": {
    "tags": []
   },
   "outputs": [],
   "source": [
    "concentrations = points[hull.vertices][:, 0:-1]\n",
    "if dimensions == 1:\n",
    "    concentrations = concentrations.ravel()\n",
    "energies = points[hull.vertices][:, -1]\n",
    "\n",
    "if dimensions == 1:\n",
    "    #%time ces = list(zip(*sorted(zip(concentrations, energies, structures))))\n",
    "    #concentrations = np.array(ces[0])\n",
    "    #energies = np.array(ces[1])\n",
    "    #structures = np.array(ces[2])\n",
    "    inds = concentrations.argsort()\n",
    "    concentrations = concentrations[inds]\n",
    "    energies = energies[inds]\n",
    "    structures = structures[inds]"
   ]
  },
  {
   "cell_type": "code",
   "execution_count": 32,
   "id": "35944b62-124d-4c72-9144-0fa74eaf1f06",
   "metadata": {
    "tags": []
   },
   "outputs": [],
   "source": [
    "if dimensions == 1:\n",
    "# Then the ConvexHullScipy function doesn't work, so we just pick\n",
    "# the indices of the lowest and highest concentrations.\n",
    "    vertices = np.array([concentrations.argmin(), concentrations.argmax()])\n",
    "else:\n",
    "    concentration_hull = ConvexHullSciPy(concentrations, qhull_options='Qs')\n",
    "    vertices = concentration_hull.vertices"
   ]
  },
  {
   "cell_type": "code",
   "execution_count": 87,
   "id": "8f598876-22e5-4dd9-a5e5-27f09fdc0dad",
   "metadata": {
    "tags": []
   },
   "outputs": [
    {
     "data": {
      "text/plain": [
       "Array([[0.        , 0.        ],\n",
       "       [0.04347826, 0.        ],\n",
       "       [0.17391304, 0.        ],\n",
       "       [0.56521739, 0.        ],\n",
       "       [0.86956522, 0.        ],\n",
       "       [0.91304348, 0.        ],\n",
       "       [0.95652174, 0.        ],\n",
       "       [1.        , 0.        ],\n",
       "       [0.        , 0.04347826],\n",
       "       [0.13043478, 0.04347826],\n",
       "       [0.95652174, 0.04347826],\n",
       "       [0.        , 0.08695652],\n",
       "       [0.91304348, 0.08695652],\n",
       "       [0.        , 0.13043478],\n",
       "       [0.        , 0.17391304],\n",
       "       [0.73913043, 0.17391304],\n",
       "       [0.        , 0.2173913 ],\n",
       "       [0.73913043, 0.2173913 ],\n",
       "       [0.7826087 , 0.2173913 ],\n",
       "       [0.26086957, 0.34782609],\n",
       "       [0.52173913, 0.39130435],\n",
       "       [0.56521739, 0.39130435],\n",
       "       [0.13043478, 0.43478261],\n",
       "       [0.52173913, 0.43478261],\n",
       "       [0.56521739, 0.43478261],\n",
       "       [0.43478261, 0.56521739],\n",
       "       [0.        , 0.60869565],\n",
       "       [0.2173913 , 0.69565217],\n",
       "       [0.26086957, 0.69565217],\n",
       "       [0.        , 0.86956522],\n",
       "       [0.04347826, 0.86956522],\n",
       "       [0.        , 0.91304348],\n",
       "       [0.04347826, 0.91304348],\n",
       "       [0.08695652, 0.91304348],\n",
       "       [0.        , 0.95652174],\n",
       "       [0.04347826, 0.95652174],\n",
       "       [0.        , 1.        ]], dtype=float64)"
      ]
     },
     "execution_count": 87,
     "metadata": {},
     "output_type": "execute_result"
    }
   ],
   "source": [
    "mask = jnp.ones(concentrations.shape[0], dtype=bool)\n",
    "#mask[jnp.array(vertices)]\n",
    "\n",
    "jnp.array(concentrations)[mask]"
   ]
  },
  {
   "cell_type": "code",
   "execution_count": 315,
   "id": "c7c3bd86-2e7c-4cd4-9958-6c8299d4bc6f",
   "metadata": {
    "tags": []
   },
   "outputs": [
    {
     "name": "stdout",
     "output_type": "stream",
     "text": [
      "7.6 ms ± 537 µs per loop (mean ± std. dev. of 7 runs, 100 loops each)\n"
     ]
    }
   ],
   "source": [
    "%timeit remove_points_above_tie_plane(vertices, structures, concentrations, energies)[2]"
   ]
  },
  {
   "cell_type": "code",
   "execution_count": 330,
   "id": "d17b0125-cb41-4246-a72d-418ca7b29fe6",
   "metadata": {
    "tags": []
   },
   "outputs": [
    {
     "name": "stdout",
     "output_type": "stream",
     "text": [
      "119 µs ± 8.88 µs per loop (mean ± std. dev. of 7 runs, 10,000 loops each)\n"
     ]
    }
   ],
   "source": [
    "%timeit remove_points_above_tie_plane_vectorized(vertices, structures, concentrations, energies)[2]"
   ]
  },
  {
   "cell_type": "code",
   "execution_count": 89,
   "id": "a44a65c2-4213-403a-9329-f3ced0e0ece2",
   "metadata": {
    "tags": []
   },
   "outputs": [
    {
     "name": "stdout",
     "output_type": "stream",
     "text": [
      "454 µs ± 8.73 µs per loop (mean ± std. dev. of 7 runs, 1,000 loops each)\n"
     ]
    }
   ],
   "source": [
    "%timeit remove_points_above_tie_plane_vectorized2(vertices, structures, concentrations, energies)[2]"
   ]
  },
  {
   "cell_type": "code",
   "execution_count": 84,
   "id": "13535335-55da-4f08-9ee8-5457e7f793f4",
   "metadata": {
    "tags": []
   },
   "outputs": [
    {
     "ename": "NonConcreteBooleanIndexError",
     "evalue": "Array boolean indices must be concrete; got ShapedArray(bool[37])\n\nSee https://jax.readthedocs.io/en/latest/errors.html#jax.errors.NonConcreteBooleanIndexError",
     "output_type": "error",
     "traceback": [
      "\u001b[0;31m---------------------------------------------------------------------------\u001b[0m",
      "\u001b[0;31mNonConcreteBooleanIndexError\u001b[0m              Traceback (most recent call last)",
      "Cell \u001b[0;32mIn[84], line 1\u001b[0m\n\u001b[0;32m----> 1\u001b[0m \u001b[43mget_ipython\u001b[49m\u001b[43m(\u001b[49m\u001b[43m)\u001b[49m\u001b[38;5;241;43m.\u001b[39;49m\u001b[43mrun_line_magic\u001b[49m\u001b[43m(\u001b[49m\u001b[38;5;124;43m'\u001b[39;49m\u001b[38;5;124;43mtimeit\u001b[39;49m\u001b[38;5;124;43m'\u001b[39;49m\u001b[43m,\u001b[49m\u001b[43m \u001b[49m\u001b[38;5;124;43m'\u001b[39;49m\u001b[38;5;124;43mremove_points_above_tie_plane_jax(vertices, structures, concentrations, energies)[2]\u001b[39;49m\u001b[38;5;124;43m'\u001b[39;49m\u001b[43m)\u001b[49m\n",
      "File \u001b[0;32m~/anaconda3/envs/gpjax/lib/python3.10/site-packages/IPython/core/interactiveshell.py:2369\u001b[0m, in \u001b[0;36mInteractiveShell.run_line_magic\u001b[0;34m(self, magic_name, line, _stack_depth)\u001b[0m\n\u001b[1;32m   2367\u001b[0m     kwargs[\u001b[38;5;124m'\u001b[39m\u001b[38;5;124mlocal_ns\u001b[39m\u001b[38;5;124m'\u001b[39m] \u001b[38;5;241m=\u001b[39m \u001b[38;5;28mself\u001b[39m\u001b[38;5;241m.\u001b[39mget_local_scope(stack_depth)\n\u001b[1;32m   2368\u001b[0m \u001b[38;5;28;01mwith\u001b[39;00m \u001b[38;5;28mself\u001b[39m\u001b[38;5;241m.\u001b[39mbuiltin_trap:\n\u001b[0;32m-> 2369\u001b[0m     result \u001b[38;5;241m=\u001b[39m \u001b[43mfn\u001b[49m\u001b[43m(\u001b[49m\u001b[38;5;241;43m*\u001b[39;49m\u001b[43margs\u001b[49m\u001b[43m,\u001b[49m\u001b[43m \u001b[49m\u001b[38;5;241;43m*\u001b[39;49m\u001b[38;5;241;43m*\u001b[39;49m\u001b[43mkwargs\u001b[49m\u001b[43m)\u001b[49m\n\u001b[1;32m   2371\u001b[0m \u001b[38;5;66;03m# The code below prevents the output from being displayed\u001b[39;00m\n\u001b[1;32m   2372\u001b[0m \u001b[38;5;66;03m# when using magics with decodator @output_can_be_silenced\u001b[39;00m\n\u001b[1;32m   2373\u001b[0m \u001b[38;5;66;03m# when the last Python token in the expression is a ';'.\u001b[39;00m\n\u001b[1;32m   2374\u001b[0m \u001b[38;5;28;01mif\u001b[39;00m \u001b[38;5;28mgetattr\u001b[39m(fn, magic\u001b[38;5;241m.\u001b[39mMAGIC_OUTPUT_CAN_BE_SILENCED, \u001b[38;5;28;01mFalse\u001b[39;00m):\n",
      "File \u001b[0;32m~/anaconda3/envs/gpjax/lib/python3.10/site-packages/IPython/core/magics/execution.py:1163\u001b[0m, in \u001b[0;36mExecutionMagics.timeit\u001b[0;34m(self, line, cell, local_ns)\u001b[0m\n\u001b[1;32m   1161\u001b[0m \u001b[38;5;28;01mfor\u001b[39;00m index \u001b[38;5;129;01min\u001b[39;00m \u001b[38;5;28mrange\u001b[39m(\u001b[38;5;241m0\u001b[39m, \u001b[38;5;241m10\u001b[39m):\n\u001b[1;32m   1162\u001b[0m     number \u001b[38;5;241m=\u001b[39m \u001b[38;5;241m10\u001b[39m \u001b[38;5;241m*\u001b[39m\u001b[38;5;241m*\u001b[39m index\n\u001b[0;32m-> 1163\u001b[0m     time_number \u001b[38;5;241m=\u001b[39m \u001b[43mtimer\u001b[49m\u001b[38;5;241;43m.\u001b[39;49m\u001b[43mtimeit\u001b[49m\u001b[43m(\u001b[49m\u001b[43mnumber\u001b[49m\u001b[43m)\u001b[49m\n\u001b[1;32m   1164\u001b[0m     \u001b[38;5;28;01mif\u001b[39;00m time_number \u001b[38;5;241m>\u001b[39m\u001b[38;5;241m=\u001b[39m \u001b[38;5;241m0.2\u001b[39m:\n\u001b[1;32m   1165\u001b[0m         \u001b[38;5;28;01mbreak\u001b[39;00m\n",
      "File \u001b[0;32m~/anaconda3/envs/gpjax/lib/python3.10/site-packages/IPython/core/magics/execution.py:157\u001b[0m, in \u001b[0;36mTimer.timeit\u001b[0;34m(self, number)\u001b[0m\n\u001b[1;32m    155\u001b[0m gc\u001b[38;5;241m.\u001b[39mdisable()\n\u001b[1;32m    156\u001b[0m \u001b[38;5;28;01mtry\u001b[39;00m:\n\u001b[0;32m--> 157\u001b[0m     timing \u001b[38;5;241m=\u001b[39m \u001b[38;5;28;43mself\u001b[39;49m\u001b[38;5;241;43m.\u001b[39;49m\u001b[43minner\u001b[49m\u001b[43m(\u001b[49m\u001b[43mit\u001b[49m\u001b[43m,\u001b[49m\u001b[43m \u001b[49m\u001b[38;5;28;43mself\u001b[39;49m\u001b[38;5;241;43m.\u001b[39;49m\u001b[43mtimer\u001b[49m\u001b[43m)\u001b[49m\n\u001b[1;32m    158\u001b[0m \u001b[38;5;28;01mfinally\u001b[39;00m:\n\u001b[1;32m    159\u001b[0m     \u001b[38;5;28;01mif\u001b[39;00m gcold:\n",
      "File \u001b[0;32m<magic-timeit>:1\u001b[0m, in \u001b[0;36minner\u001b[0;34m(_it, _timer)\u001b[0m\n",
      "    \u001b[0;31m[... skipping hidden 11 frame]\u001b[0m\n",
      "Cell \u001b[0;32mIn[83], line 19\u001b[0m, in \u001b[0;36mremove_points_above_tie_plane_jax\u001b[0;34m(vertices, structures, concentrations, energies, tol)\u001b[0m\n\u001b[1;32m     16\u001b[0m     plane_concentrations \u001b[38;5;241m=\u001b[39m concentrations[jnp\u001b[38;5;241m.\u001b[39marray(plane)]\n\u001b[1;32m     17\u001b[0m     plane_energies \u001b[38;5;241m=\u001b[39m energies[jnp\u001b[38;5;241m.\u001b[39marray(plane)]\n\u001b[0;32m---> 19\u001b[0m     plane_energy_pure \u001b[38;5;241m=\u001b[39m griddata(plane_concentrations, plane_energies, \u001b[43mconcentrations\u001b[49m\u001b[43m[\u001b[49m\u001b[43mmask\u001b[49m\u001b[43m]\u001b[49m, method\u001b[38;5;241m=\u001b[39m\u001b[38;5;124m'\u001b[39m\u001b[38;5;124mlinear\u001b[39m\u001b[38;5;124m'\u001b[39m)\n\u001b[1;32m     20\u001b[0m     mask \u001b[38;5;241m=\u001b[39m mask\u001b[38;5;241m.\u001b[39mat[mask]\u001b[38;5;241m.\u001b[39mset(plane_energy_pure \u001b[38;5;241m>\u001b[39m\u001b[38;5;241m=\u001b[39m energies[mask] \u001b[38;5;241m-\u001b[39m tol)\n\u001b[1;32m     22\u001b[0m \u001b[38;5;66;03m# include\u001b[39;00m\n",
      "    \u001b[0;31m[... skipping hidden 1 frame]\u001b[0m\n",
      "File \u001b[0;32m~/anaconda3/envs/gpjax/lib/python3.10/site-packages/jax/_src/numpy/lax_numpy.py:3954\u001b[0m, in \u001b[0;36m_rewriting_take\u001b[0;34m(arr, idx, indices_are_sorted, unique_indices, mode, fill_value)\u001b[0m\n\u001b[1;32m   3948\u001b[0m     \u001b[38;5;28;01mif\u001b[39;00m (\u001b[38;5;28misinstance\u001b[39m(aval, core\u001b[38;5;241m.\u001b[39mDShapedArray) \u001b[38;5;129;01mand\u001b[39;00m aval\u001b[38;5;241m.\u001b[39mshape \u001b[38;5;241m==\u001b[39m () \u001b[38;5;129;01mand\u001b[39;00m\n\u001b[1;32m   3949\u001b[0m         dtypes\u001b[38;5;241m.\u001b[39missubdtype(aval\u001b[38;5;241m.\u001b[39mdtype, np\u001b[38;5;241m.\u001b[39minteger) \u001b[38;5;129;01mand\u001b[39;00m\n\u001b[1;32m   3950\u001b[0m         \u001b[38;5;129;01mnot\u001b[39;00m dtypes\u001b[38;5;241m.\u001b[39missubdtype(aval\u001b[38;5;241m.\u001b[39mdtype, dtypes\u001b[38;5;241m.\u001b[39mbool_) \u001b[38;5;129;01mand\u001b[39;00m\n\u001b[1;32m   3951\u001b[0m         \u001b[38;5;28misinstance\u001b[39m(arr\u001b[38;5;241m.\u001b[39mshape[\u001b[38;5;241m0\u001b[39m], \u001b[38;5;28mint\u001b[39m)):\n\u001b[1;32m   3952\u001b[0m       \u001b[38;5;28;01mreturn\u001b[39;00m lax\u001b[38;5;241m.\u001b[39mdynamic_index_in_dim(arr, idx, keepdims\u001b[38;5;241m=\u001b[39m\u001b[38;5;28;01mFalse\u001b[39;00m)\n\u001b[0;32m-> 3954\u001b[0m treedef, static_idx, dynamic_idx \u001b[38;5;241m=\u001b[39m \u001b[43m_split_index_for_jit\u001b[49m\u001b[43m(\u001b[49m\u001b[43midx\u001b[49m\u001b[43m,\u001b[49m\u001b[43m \u001b[49m\u001b[43marr\u001b[49m\u001b[38;5;241;43m.\u001b[39;49m\u001b[43mshape\u001b[49m\u001b[43m)\u001b[49m\n\u001b[1;32m   3955\u001b[0m \u001b[38;5;28;01mreturn\u001b[39;00m _gather(arr, treedef, static_idx, dynamic_idx, indices_are_sorted,\n\u001b[1;32m   3956\u001b[0m                unique_indices, mode, fill_value)\n",
      "File \u001b[0;32m~/anaconda3/envs/gpjax/lib/python3.10/site-packages/jax/_src/numpy/lax_numpy.py:4033\u001b[0m, in \u001b[0;36m_split_index_for_jit\u001b[0;34m(idx, shape)\u001b[0m\n\u001b[1;32m   4029\u001b[0m idx \u001b[38;5;241m=\u001b[39m _eliminate_deprecated_list_indexing(idx)\n\u001b[1;32m   4031\u001b[0m \u001b[38;5;66;03m# Expand any (concrete) boolean indices. We can then use advanced integer\u001b[39;00m\n\u001b[1;32m   4032\u001b[0m \u001b[38;5;66;03m# indexing logic to handle them.\u001b[39;00m\n\u001b[0;32m-> 4033\u001b[0m idx \u001b[38;5;241m=\u001b[39m \u001b[43m_expand_bool_indices\u001b[49m\u001b[43m(\u001b[49m\u001b[43midx\u001b[49m\u001b[43m,\u001b[49m\u001b[43m \u001b[49m\u001b[43mshape\u001b[49m\u001b[43m)\u001b[49m\n\u001b[1;32m   4035\u001b[0m leaves, treedef \u001b[38;5;241m=\u001b[39m tree_flatten(idx)\n\u001b[1;32m   4036\u001b[0m dynamic \u001b[38;5;241m=\u001b[39m [\u001b[38;5;28;01mNone\u001b[39;00m] \u001b[38;5;241m*\u001b[39m \u001b[38;5;28mlen\u001b[39m(leaves)\n",
      "File \u001b[0;32m~/anaconda3/envs/gpjax/lib/python3.10/site-packages/jax/_src/numpy/lax_numpy.py:4346\u001b[0m, in \u001b[0;36m_expand_bool_indices\u001b[0;34m(idx, shape)\u001b[0m\n\u001b[1;32m   4342\u001b[0m   abstract_i \u001b[38;5;241m=\u001b[39m core\u001b[38;5;241m.\u001b[39mget_aval(i)\n\u001b[1;32m   4344\u001b[0m \u001b[38;5;28;01mif\u001b[39;00m \u001b[38;5;129;01mnot\u001b[39;00m \u001b[38;5;28mtype\u001b[39m(abstract_i) \u001b[38;5;129;01mis\u001b[39;00m ConcreteArray:\n\u001b[1;32m   4345\u001b[0m   \u001b[38;5;66;03m# TODO(mattjj): improve this error by tracking _why_ the indices are not concrete\u001b[39;00m\n\u001b[0;32m-> 4346\u001b[0m   \u001b[38;5;28;01mraise\u001b[39;00m errors\u001b[38;5;241m.\u001b[39mNonConcreteBooleanIndexError(abstract_i)\n\u001b[1;32m   4347\u001b[0m \u001b[38;5;28;01melif\u001b[39;00m _ndim(i) \u001b[38;5;241m==\u001b[39m \u001b[38;5;241m0\u001b[39m:\n\u001b[1;32m   4348\u001b[0m   \u001b[38;5;28;01mraise\u001b[39;00m \u001b[38;5;167;01mTypeError\u001b[39;00m(\u001b[38;5;124m\"\u001b[39m\u001b[38;5;124mJAX arrays do not support boolean scalar indices\u001b[39m\u001b[38;5;124m\"\u001b[39m)\n",
      "\u001b[0;31mNonConcreteBooleanIndexError\u001b[0m: Array boolean indices must be concrete; got ShapedArray(bool[37])\n\nSee https://jax.readthedocs.io/en/latest/errors.html#jax.errors.NonConcreteBooleanIndexError"
     ]
    }
   ],
   "source": [
    "%timeit remove_points_above_tie_plane_jax(vertices, structures, concentrations, energies)[2]"
   ]
  },
  {
   "cell_type": "code",
   "execution_count": 348,
   "id": "cfc5d9ec-de33-403b-b247-eb571f3b6f2e",
   "metadata": {
    "tags": []
   },
   "outputs": [
    {
     "data": {
      "text/plain": [
       "array([  0, 111, 112, 113, 114, 115, 116, 117, 119, 120, 122, 123, 124,\n",
       "       127, 129, 131, 132, 134, 136, 138, 140, 142, 143, 737, 738, 739,\n",
       "       740, 741, 742, 743, 744, 745, 746, 747, 748, 749, 750, 751, 752,\n",
       "       753, 754, 928, 929, 930, 931, 932, 933, 934, 935, 937, 939, 941,\n",
       "       943, 945, 947, 949, 951, 952, 953, 955, 957, 958, 959, 960, 961,\n",
       "       962, 963, 964, 966, 967, 968, 969, 972, 976, 999], dtype=int32)"
      ]
     },
     "execution_count": 348,
     "metadata": {},
     "output_type": "execute_result"
    }
   ],
   "source": [
    "remove_points_above_tie_plane(vertices, structures, concentrations, energies)[2]"
   ]
  },
  {
   "cell_type": "code",
   "execution_count": 350,
   "id": "d97e29b1-b247-4da5-9b86-a0ef12436d45",
   "metadata": {
    "tags": []
   },
   "outputs": [
    {
     "data": {
      "text/plain": [
       "array([  0, 111, 112, 113, 114, 115, 116, 117, 119, 120, 122, 123, 124,\n",
       "       127, 129, 131, 132, 134, 136, 138, 140, 142, 143, 737, 738, 739,\n",
       "       740, 741, 742, 743, 744, 745, 746, 747, 748, 749, 750, 751, 752,\n",
       "       753, 754, 928, 929, 930, 931, 932, 933, 934, 935, 937, 939, 941,\n",
       "       943, 945, 947, 949, 951, 952, 953, 955, 957, 958, 959, 960, 961,\n",
       "       962, 963, 964, 966, 967, 968, 969, 972, 976, 999], dtype=int32)"
      ]
     },
     "execution_count": 350,
     "metadata": {},
     "output_type": "execute_result"
    }
   ],
   "source": [
    "remove_points_above_tie_plane_vectorized(vertices, structures, concentrations, energies)[2]"
   ]
  },
  {
   "cell_type": "code",
   "execution_count": 90,
   "id": "40315fd7-3489-4284-adc4-d2375bfadf96",
   "metadata": {
    "tags": []
   },
   "outputs": [
    {
     "data": {
      "text/plain": [
       "array([  0,   1,  13,  23, 170, 198, 244, 269, 270, 290, 291, 294, 295,\n",
       "       296, 297, 298, 299], dtype=int32)"
      ]
     },
     "execution_count": 90,
     "metadata": {},
     "output_type": "execute_result"
    }
   ],
   "source": [
    "remove_points_above_tie_plane_vectorized2(vertices, structures, concentrations, energies)[2]"
   ]
  },
  {
   "cell_type": "code",
   "execution_count": 136,
   "id": "33d076c9-6d2d-46b1-8f9e-8568021182ae",
   "metadata": {
    "tags": []
   },
   "outputs": [],
   "source": [
    "if dimensions == 1:\n",
    "    # Then the ConvexHullScipy function doesn't work, so we just pick\n",
    "    # the indices of the lowest and highest concentrations.\n",
    "    vertices = np.array([concentrations.argmin(), concentrations.argmax()])\n",
    "else:\n",
    "    concentration_hull = ConvexHullSciPy(concentrations, qhull_options='Qs')\n",
    "    vertices = concentration_hull.vertices"
   ]
  },
  {
   "cell_type": "code",
   "execution_count": 321,
   "id": "dab688fe-8f95-46a7-a4db-dbd1f10231d3",
   "metadata": {
    "tags": []
   },
   "outputs": [
    {
     "name": "stdout",
     "output_type": "stream",
     "text": [
      "10.7 ms ± 1.41 ms per loop (mean ± std. dev. of 7 runs, 100 loops each)\n"
     ]
    }
   ],
   "source": [
    "%timeit convex_envelope(design_space, true_y)"
   ]
  },
  {
   "cell_type": "code",
   "execution_count": 335,
   "id": "7565b13e-1630-405c-92a8-69fd6199d820",
   "metadata": {
    "tags": []
   },
   "outputs": [
    {
     "name": "stdout",
     "output_type": "stream",
     "text": [
      "937 µs ± 74.9 µs per loop (mean ± std. dev. of 7 runs, 1,000 loops each)\n"
     ]
    }
   ],
   "source": [
    "%timeit compute_hull(design_space, true_y)"
   ]
  },
  {
   "cell_type": "code",
   "execution_count": 113,
   "id": "183baff3-a6d2-428e-9185-4dc25fb4977f",
   "metadata": {
    "tags": []
   },
   "outputs": [
    {
     "name": "stdout",
     "output_type": "stream",
     "text": [
      "445 µs ± 21.6 µs per loop (mean ± std. dev. of 7 runs, 1,000 loops each)\n"
     ]
    }
   ],
   "source": [
    "#without sorting\n",
    "%timeit compute_hull(design_space, true_y)"
   ]
  },
  {
   "cell_type": "code",
   "execution_count": 108,
   "id": "b5386e70-efb9-4d61-9e3e-a41fe0e7de01",
   "metadata": {
    "tags": []
   },
   "outputs": [
    {
     "name": "stdout",
     "output_type": "stream",
     "text": [
      "549 µs ± 74.9 µs per loop (mean ± std. dev. of 7 runs, 1,000 loops each)\n"
     ]
    }
   ],
   "source": [
    "#without loops\n",
    "%timeit compute_hull(design_space, true_y)"
   ]
  },
  {
   "cell_type": "code",
   "execution_count": 77,
   "id": "f1ea4079-7200-4ff9-8d77-91ceaf52bd7f",
   "metadata": {
    "tags": []
   },
   "outputs": [
    {
     "name": "stdout",
     "output_type": "stream",
     "text": [
      "486 µs ± 23.7 µs per loop (mean ± std. dev. of 7 runs, 1,000 loops each)\n"
     ]
    }
   ],
   "source": [
    "# with loops\n",
    "%timeit compute_hull(design_space, true_y)"
   ]
  },
  {
   "cell_type": "markdown",
   "id": "f9e494cd-6527-4c71-a54d-3fd8ce2bd080",
   "metadata": {},
   "source": [
    "# 1D"
   ]
  },
  {
   "cell_type": "code",
   "execution_count": 11,
   "id": "b40e71e9-f080-4002-af86-ecaf8c9c50d6",
   "metadata": {
    "tags": []
   },
   "outputs": [],
   "source": [
    "seed = 2\n",
    "num_iters = 3\n",
    "knot_N = 1000\n",
    "npr.seed(seed); rng_key = jrnd.PRNGKey(1)\n",
    "\n",
    "# grid to discretize design space into\n",
    "knot_x = jnp.linspace(0, 1, knot_N)\n",
    "design_space = knot_x[:, jnp.newaxis]\n",
    "\n",
    "true_y, true_envelope = generate_true_function(design_space, knot_N)\n",
    "\n",
    "# Let's imagine that we start out by observing the two end points.\n",
    "train_x = jnp.array([design_space[0], design_space[-1]]); train_y = jnp.array([true_y[0], true_y[-1]])\n",
    "dataset = Dataset(X=train_x, y=train_y[:,jnp.newaxis])\n",
    "\n",
    "#designs = design_space\n",
    "designs = design_space[1:-1]\n",
    "\n"
   ]
  },
  {
   "cell_type": "code",
   "execution_count": 12,
   "id": "8ea37455-35a2-4d85-b7ba-19829cd84f84",
   "metadata": {
    "tags": []
   },
   "outputs": [
    {
     "name": "stdout",
     "output_type": "stream",
     "text": [
      "1.79 ms ± 263 µs per loop (mean ± std. dev. of 7 runs, 1 loop each)\n"
     ]
    }
   ],
   "source": [
    "%timeit convelope(design_space, true_y)"
   ]
  },
  {
   "cell_type": "code",
   "execution_count": 13,
   "id": "760da4cb-a3ad-4411-b4e3-0888427e2c8f",
   "metadata": {
    "tags": []
   },
   "outputs": [
    {
     "name": "stdout",
     "output_type": "stream",
     "text": [
      "195 µs ± 217 ns per loop (mean ± std. dev. of 7 runs, 10,000 loops each)\n"
     ]
    }
   ],
   "source": [
    "%timeit convex_envelope_fast(design_space, true_y)"
   ]
  },
  {
   "cell_type": "code",
   "execution_count": 14,
   "id": "31cd4f76-da6f-4e21-80a4-67089aaa2f56",
   "metadata": {
    "tags": []
   },
   "outputs": [
    {
     "name": "stdout",
     "output_type": "stream",
     "text": [
      "3.39 ms ± 3.13 µs per loop (mean ± std. dev. of 7 runs, 100 loops each)\n"
     ]
    }
   ],
   "source": [
    "%timeit convex_envelope(design_space, true_y)"
   ]
  },
  {
   "cell_type": "code",
   "execution_count": 15,
   "id": "7b195eb0-8702-4bba-8734-2ed54309b061",
   "metadata": {
    "tags": []
   },
   "outputs": [
    {
     "name": "stdout",
     "output_type": "stream",
     "text": [
      "254 µs ± 31.8 ns per loop (mean ± std. dev. of 7 runs, 1,000 loops each)\n"
     ]
    }
   ],
   "source": [
    "%timeit compute_hull(design_space, true_y)"
   ]
  },
  {
   "cell_type": "code",
   "execution_count": 16,
   "id": "130140e5-5276-4738-8ce1-34e343315108",
   "metadata": {
    "tags": []
   },
   "outputs": [
    {
     "name": "stdout",
     "output_type": "stream",
     "text": [
      "265 µs ± 189 ns per loop (mean ± std. dev. of 7 runs, 1,000 loops each)\n"
     ]
    }
   ],
   "source": [
    "%timeit is_tight(design_space, true_y)"
   ]
  },
  {
   "cell_type": "code",
   "execution_count": 17,
   "id": "72632d46-5dd0-47bc-8afc-bb8f855a6d6f",
   "metadata": {
    "tags": []
   },
   "outputs": [
    {
     "name": "stdout",
     "output_type": "stream",
     "text": [
      "203 µs ± 3.39 µs per loop (mean ± std. dev. of 7 runs, 1,000 loops each)\n"
     ]
    }
   ],
   "source": [
    "%timeit is_vertex(np.column_stack([design_space, true_y]))"
   ]
  },
  {
   "cell_type": "code",
   "execution_count": 18,
   "id": "55892ee5-bbd8-4315-8ebb-cd1d05ead8a3",
   "metadata": {
    "tags": []
   },
   "outputs": [
    {
     "data": {
      "text/plain": [
       "<matplotlib.collections.PathCollection at 0x7f50f86fe050>"
      ]
     },
     "execution_count": 18,
     "metadata": {},
     "output_type": "execute_result"
    },
    {
     "data": {
      "image/png": "[encoded data removed]",
      "text/plain": [
       "<Figure size 640x480 with 1 Axes>"
      ]
     },
     "metadata": {
      "image/png": {
       "height": 414,
       "width": 559
      }
     },
     "output_type": "display_data"
    }
   ],
   "source": [
    "plt.plot(design_space, true_y)\n",
    "plt.plot(design_space, true_envelope.T)\n",
    "\n",
    "#conv1 = convex_envelope(design_space, true_y, tol=0)\n",
    "#conv2 = convex_envelope(design_space, true_y, tol=0.05)\n",
    "_, _, conv3 = compute_hull(design_space, true_y)\n",
    "\n",
    "\n",
    "# this doesn't compute the hull, just the points on the hull\n",
    "#plt.scatter(design_space[conv1], true_y[conv1])\n",
    "#plt.scatter(design_space[conv2], true_y[conv2], marker=\"x\")\n",
    "plt.scatter(design_space[conv3], true_y[conv3], marker=\".\")"
   ]
  },
  {
   "cell_type": "code",
   "execution_count": 19,
   "id": "f3407a79-e9b3-4791-a376-5cdba6cf0b19",
   "metadata": {
    "tags": []
   },
   "outputs": [
    {
     "data": {
      "text/plain": [
       "array([  0, 111, 112, 113, 114, 115, 116, 117, 119, 120, 122, 123, 124,\n",
       "       127, 129, 131, 132, 134, 136, 138, 140, 142, 143, 737, 738, 739,\n",
       "       740, 741, 742, 743, 744, 745, 746, 747, 748, 749, 750, 751, 752,\n",
       "       753, 754, 928, 929, 930, 931, 932, 933, 934, 935, 937, 939, 941,\n",
       "       943, 945, 947, 949, 951, 952, 953, 955, 957, 958, 959, 960, 961,\n",
       "       962, 963, 964, 966, 967, 968, 969, 972, 976, 999], dtype=int32)"
      ]
     },
     "execution_count": 19,
     "metadata": {},
     "output_type": "execute_result"
    }
   ],
   "source": [
    "compute_hull(design_space, true_y)[2]"
   ]
  },
  {
   "cell_type": "markdown",
   "id": "240b8b9c-0f70-4359-b7d9-1bb525f6ea00",
   "metadata": {},
   "source": [
    "# 2D"
   ]
  },
  {
   "cell_type": "code",
   "execution_count": 20,
   "id": "d8f57cb0-c3b5-4fc6-9fbc-1c3751c90ae6",
   "metadata": {
    "tags": []
   },
   "outputs": [],
   "source": [
    "n_grid = 20\n",
    "\n",
    "nx, ny = (n_grid, n_grid)\n",
    "x = jnp.linspace(0, 1, nx)\n",
    "y = jnp.linspace(0, 1, ny)\n",
    "xv, yv = jnp.meshgrid(x, y)\n",
    "train_x = jnp.array([xv.flatten(),yv.flatten()]).T\n",
    "# filter out points that are greater than 1\n",
    "design_space = train_x[train_x.sum(1) <= 1]\n",
    "pts = []\n",
    "for x in design_space:\n",
    "    pts.append(jnp.array([x[0], x[1], 1-x.sum()]))\n",
    "    \n",
    "knot_N = len(design_space)\n",
    "\n",
    "#set seed\n",
    "seed = 5\n",
    "npr.seed(seed); rng_key = jrnd.PRNGKey(seed)\n",
    "\n",
    "# generate energies\n",
    "true_y, true_envelope = generate_true_function(design_space, knot_N)\n",
    "\n",
    "# compute tight points w.r.t. generated data\n",
    "tights = (true_y - true_envelope) <= 1e-3\n",
    "tight_designs = design_space[tights.ravel(),:]\n",
    "tight_pts = []\n",
    "for x in tight_designs:\n",
    "    tight_pts.append(jnp.array([x[0], x[1], 1-x.sum()]))\n",
    "\n",
    "# observations at each vertex and roughly in the middle\n",
    "train_x = jnp.array([design_space[0], design_space[10], design_space[24], design_space[-1]])\n",
    "train_y = jnp.array([true_y[0], true_y[10], true_y[24], true_y[-1]])\n",
    "data = (train_x, train_y); #dataset = Dataset(X=train_x, y=train_y[:,jnp.newaxis])"
   ]
  },
  {
   "cell_type": "code",
   "execution_count": 21,
   "id": "1c992dc9-93dc-4ad5-8529-e217ced8208c",
   "metadata": {
    "tags": []
   },
   "outputs": [
    {
     "data": {
      "text/plain": [
       "array([  0,   1,  12,  16,  17,  19,  20,  21,  55,  56,  73,  89, 165,\n",
       "       194, 200, 208, 209], dtype=int32)"
      ]
     },
     "execution_count": 21,
     "metadata": {},
     "output_type": "execute_result"
    }
   ],
   "source": [
    "points = np.column_stack((design_space, true_y))\n",
    "hull = ConvexHullSciPy(points)\n",
    "\n",
    "down_facing = hull.equations[:,-2] < 0\n",
    "np.unique(hull.simplices[down_facing,:].ravel())"
   ]
  },
  {
   "cell_type": "code",
   "execution_count": 22,
   "id": "fb9d8077-66a8-4e81-a13a-05d6759316df",
   "metadata": {
    "tags": []
   },
   "outputs": [
    {
     "data": {
      "text/plain": [
       "array([  0,   1,  12,  16,  17,  19,  20,  21,  55,  56,  73,  89, 165,\n",
       "       194, 200, 208, 209], dtype=int32)"
      ]
     },
     "execution_count": 22,
     "metadata": {},
     "output_type": "execute_result"
    }
   ],
   "source": [
    "convex_envelope(design_space, true_y)"
   ]
  },
  {
   "cell_type": "code",
   "execution_count": 23,
   "id": "8b6ce705-1f1a-4b6d-9b1c-7813f762ae5d",
   "metadata": {
    "tags": []
   },
   "outputs": [
    {
     "data": {
      "text/plain": [
       "array([  0,   1,  12,  16,  17,  19,  20,  21,  55,  56,  73,  89, 165,\n",
       "       194, 200, 208, 209], dtype=int32)"
      ]
     },
     "execution_count": 23,
     "metadata": {},
     "output_type": "execute_result"
    }
   ],
   "source": [
    "compute_hull(design_space, true_y)[2]"
   ]
  },
  {
   "cell_type": "code",
   "execution_count": 25,
   "id": "2717effd-00d7-4765-9a06-3bf6f414a16f",
   "metadata": {
    "tags": []
   },
   "outputs": [
    {
     "name": "stdout",
     "output_type": "stream",
     "text": [
      "123 µs ± 435 ns per loop (mean ± std. dev. of 7 runs, 10,000 loops each)\n"
     ]
    }
   ],
   "source": [
    "%timeit convex_envelope_fast(design_space, true_y)"
   ]
  },
  {
   "cell_type": "code",
   "execution_count": 26,
   "id": "fdd1f216-ac9f-432b-937c-f25fddd1ceef",
   "metadata": {
    "tags": []
   },
   "outputs": [
    {
     "name": "stdout",
     "output_type": "stream",
     "text": [
      "1.74 ms ± 1.6 µs per loop (mean ± std. dev. of 7 runs, 1,000 loops each)\n"
     ]
    }
   ],
   "source": [
    "%timeit convex_envelope(design_space, true_y)"
   ]
  },
  {
   "cell_type": "code",
   "execution_count": 27,
   "id": "e4ee5e51-5aa1-4b7b-8874-5c540e07cb7a",
   "metadata": {
    "tags": []
   },
   "outputs": [
    {
     "name": "stdout",
     "output_type": "stream",
     "text": [
      "48.7 ms ± 40.6 µs per loop (mean ± std. dev. of 7 runs, 10 loops each)\n"
     ]
    }
   ],
   "source": [
    "%timeit convex_envelope(design_space, true_y, tol=0.005)"
   ]
  },
  {
   "cell_type": "code",
   "execution_count": 28,
   "id": "46520b3b-5262-476d-8b23-3cdcfcbdc692",
   "metadata": {
    "scrolled": true,
    "tags": []
   },
   "outputs": [
    {
     "name": "stdout",
     "output_type": "stream",
     "text": [
      "289 µs ± 309 ns per loop (mean ± std. dev. of 7 runs, 1,000 loops each)\n"
     ]
    }
   ],
   "source": [
    "%timeit compute_hull(design_space, true_y)"
   ]
  },
  {
   "cell_type": "code",
   "execution_count": 29,
   "id": "ca3724d9-c11b-4515-abb7-69180f9a7c98",
   "metadata": {},
   "outputs": [
    {
     "name": "stdout",
     "output_type": "stream",
     "text": [
      "2.02 ms ± 247 µs per loop (mean ± std. dev. of 7 runs, 1 loop each)\n"
     ]
    }
   ],
   "source": [
    "%timeit convelope(design_space, true_y)"
   ]
  },
  {
   "cell_type": "code",
   "execution_count": 42,
   "id": "20d1d15a-ec47-4dd1-a1fb-2bc16d8ca773",
   "metadata": {
    "tags": []
   },
   "outputs": [
    {
     "data": {
      "text/plain": [
       "array([  0,   4,  13,  20,  21,  22,  23,  24,  27,  46,  47,  68,  69,\n",
       "        90, 107, 110, 127, 128, 170, 192, 193, 198, 207, 208, 244, 245,\n",
       "       269, 270, 290, 291, 294, 295, 296, 297, 298, 299], dtype=int32)"
      ]
     },
     "execution_count": 42,
     "metadata": {},
     "output_type": "execute_result"
    }
   ],
   "source": [
    "convex_envelope_fast(design_space, true_y)"
   ]
  },
  {
   "cell_type": "code",
   "execution_count": 27,
   "id": "2450fb2c-6646-417c-951c-28aadd985341",
   "metadata": {
    "tags": []
   },
   "outputs": [
    {
     "data": {
      "text/plain": [
       "array([  0,   1,  13,  23, 170, 198, 244, 269, 270, 290, 291, 294, 295,\n",
       "       296, 297, 298, 299], dtype=int32)"
      ]
     },
     "execution_count": 27,
     "metadata": {},
     "output_type": "execute_result"
    }
   ],
   "source": [
    "convex_envelope(design_space, true_y)"
   ]
  },
  {
   "cell_type": "code",
   "execution_count": 28,
   "id": "31183701-db3a-4eec-8975-210050f80284",
   "metadata": {
    "tags": []
   },
   "outputs": [
    {
     "data": {
      "text/plain": [
       "array([  0,   1,  13,  23, 170, 198, 244, 269, 270, 290, 291, 294, 295,\n",
       "       296, 297, 298, 299], dtype=int32)"
      ]
     },
     "execution_count": 28,
     "metadata": {},
     "output_type": "execute_result"
    }
   ],
   "source": [
    "compute_hull(design_space, true_y)[2]"
   ]
  },
  {
   "cell_type": "code",
   "execution_count": null,
   "id": "e62167e4-fdd8-462d-bf47-a5247b6a6515",
   "metadata": {},
   "outputs": [],
   "source": []
  },
  {
   "cell_type": "markdown",
   "id": "418f8edc-296e-4458-a360-a05a9d05ec17",
   "metadata": {
    "jp-MarkdownHeadingCollapsed": true,
    "tags": []
   },
   "source": [
    "## Scratch"
   ]
  },
  {
   "cell_type": "code",
   "execution_count": 356,
   "id": "255d8c8e-7c38-41e6-a8c7-f708ac5b7704",
   "metadata": {
    "tags": []
   },
   "outputs": [],
   "source": [
    "tol = 1e-3 \n",
    "concentrations = design_space\n",
    "energies = true_y\n",
    "points = np.column_stack((concentrations, energies))\n",
    "dimensions = len(points[0]) - 1\n",
    "hull = ConvexHullSciPy(points, qhull_options='Qs')\n",
    "structures = hull.vertices"
   ]
  },
  {
   "cell_type": "code",
   "execution_count": 357,
   "id": "9bba998c-9184-4042-8703-42572fe18a5b",
   "metadata": {
    "tags": []
   },
   "outputs": [],
   "source": [
    "concentrations = points[hull.vertices][:, 0:-1]\n",
    "if dimensions == 1:\n",
    "    concentrations = concentrations.ravel()\n",
    "energies = points[hull.vertices][:, -1]\n",
    "\n",
    "if dimensions == 1:\n",
    "    #%time ces = list(zip(*sorted(zip(concentrations, energies, structures))))\n",
    "    #concentrations = np.array(ces[0])\n",
    "    #energies = np.array(ces[1])\n",
    "    #structures = np.array(ces[2])\n",
    "    inds = concentrations.argsort()\n",
    "    concentrations = concentrations[inds]\n",
    "    energies = energies[inds]\n",
    "    structures = structures[inds]"
   ]
  },
  {
   "cell_type": "code",
   "execution_count": 360,
   "id": "dfb63c87-aa36-4365-ae9c-ca213b6adc8f",
   "metadata": {
    "tags": []
   },
   "outputs": [],
   "source": [
    "# Remove points that are above the \"pure components plane\"\n",
    "if dimensions == 1:\n",
    "    vertices = np.array([concentrations.argmin(), concentrations.argmax()])\n",
    "else:\n",
    "    concentration_hull = ConvexHullSciPy(concentrations, qhull_options='Qs')\n",
    "    vertices = concentration_hull.vertices"
   ]
  },
  {
   "cell_type": "code",
   "execution_count": 361,
   "id": "2b723539-a174-403c-998e-702b9c83486c",
   "metadata": {
    "tags": []
   },
   "outputs": [
    {
     "data": {
      "text/plain": [
       "array([ 0,  7, 36], dtype=int32)"
      ]
     },
     "execution_count": 361,
     "metadata": {},
     "output_type": "execute_result"
    }
   ],
   "source": [
    "vertices"
   ]
  },
  {
   "cell_type": "code",
   "execution_count": 362,
   "id": "99512ac1-909d-4a4f-9f7d-4311abcef4b1",
   "metadata": {
    "tags": []
   },
   "outputs": [],
   "source": [
    "mask = np.ones(concentrations.shape[0], dtype=bool)\n",
    "mask[vertices] = False\n",
    "    \n",
    "for plane in itertools.combinations(vertices, min(len(vertices), dimensions + 1)):\n",
    "\n",
    "    plane_concentrations = concentrations[list(plane)]\n",
    "    plane_energies = energies[list(plane)]\n",
    "\n",
    "    plane_energy_pure = griddata(plane_concentrations, plane_energies, concentrations[mask], method='linear')\n",
    "    mask[mask] &= plane_energy_pure >= energies[mask] - tol\n",
    "\n",
    "# include\n",
    "mask[vertices] = True"
   ]
  },
  {
   "cell_type": "code",
   "execution_count": 365,
   "id": "11c30ce8-c1cf-4333-aebe-fe754f1cd658",
   "metadata": {
    "tags": []
   },
   "outputs": [
    {
     "data": {
      "text/plain": [
       "array([  0,   1,  13,  23, 170, 198, 244, 269, 270, 290, 291, 294, 295,\n",
       "       296, 297, 298, 299], dtype=int32)"
      ]
     },
     "execution_count": 365,
     "metadata": {},
     "output_type": "execute_result"
    }
   ],
   "source": [
    "structures[mask]"
   ]
  },
  {
   "cell_type": "code",
   "execution_count": null,
   "id": "98161978-b8f5-4002-b5b1-a223fc026263",
   "metadata": {},
   "outputs": [],
   "source": []
  }
 ],
 "metadata": {
  "kernelspec": {
   "display_name": "Python 3 (ipykernel)",
   "language": "python",
   "name": "python3"
  },
  "language_info": {
   "codemirror_mode": {
    "name": "ipython",
    "version": 3
   },
   "file_extension": ".py",
   "mimetype": "text/x-python",
   "name": "python",
   "nbconvert_exporter": "python",
   "pygments_lexer": "ipython3",
   "version": "3.10.11"
  }
 },
 "nbformat": 4,
 "nbformat_minor": 5
}
