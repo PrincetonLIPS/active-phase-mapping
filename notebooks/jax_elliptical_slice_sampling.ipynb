{
 "cells": [
  {
   "cell_type": "code",
   "execution_count": 1,
   "metadata": {},
   "outputs": [],
   "source": [
    "import jax\n",
    "import jax.numpy  as jnp\n",
    "import jax.random as jrnd\n",
    "import matplotlib.pyplot as plt"
   ]
  },
  {
   "cell_type": "code",
   "execution_count": 2,
   "metadata": {},
   "outputs": [],
   "source": [
    "def elliptical_slice(x0, log_lh_func, chol, num_samples, rng_key):\n",
    "\n",
    "  @jax.jit\n",
    "  def ess_step_condfun(state):\n",
    "    x, new_x, nu, thresh, lower, upper, rng_key = state\n",
    "    llh = log_lh_func(new_x)\n",
    "    return log_lh_func(new_x) < thresh\n",
    "\n",
    "  @jax.jit\n",
    "  def ess_step_bodyfun(state):\n",
    "    x, new_x, nu, thresh, lower, upper, rng_key = state\n",
    "    theta_rng, rng_key = jrnd.split(rng_key, 2)\n",
    "    theta = jrnd.uniform(theta_rng, minval=lower, maxval=upper)\n",
    "    new_x = x*jnp.cos(theta) + nu*jnp.sin(theta)\n",
    "    lower, upper = jax.lax.cond(theta < 0, lambda : (theta, upper), lambda : (lower, theta))\n",
    "    return x, new_x, nu, thresh, lower, upper, rng_key\n",
    "\n",
    "  @jax.jit\n",
    "  def ess_step(x, rng_key):\n",
    "    nu_rng, u_rng, theta_rng, rng_key = jrnd.split(rng_key, 4)\n",
    "    nu = jrnd.normal(nu_rng, shape=x.shape)\n",
    "    u = jrnd.uniform(u_rng)\n",
    "    thresh = log_lh_func(x) + jnp.log(u)\n",
    "    theta = jrnd.uniform(theta_rng, minval=0, maxval=2*jnp.pi)\n",
    "    upper = theta\n",
    "    lower = theta - 2*jnp.pi\n",
    "    new_x = x*jnp.cos(theta) + nu*jnp.sin(theta)\n",
    "    _, new_x, _, _, _, _, _ = jax.lax.while_loop(\n",
    "      ess_step_condfun,\n",
    "      ess_step_bodyfun,\n",
    "      (x, new_x, nu, thresh, lower, upper, rng_key)\n",
    "    )\n",
    "    return new_x\n",
    "\n",
    "  @jax.jit\n",
    "  def scanfunc(state, xs):\n",
    "    x, rng_key = state\n",
    "    step_key, rng_key = jrnd.split(rng_key, 2)\n",
    "    x = ess_step(x, step_key)\n",
    "    return (x, rng_key), x\n",
    "\n",
    "  _, samples = jax.lax.scan(scanfunc, (x0, rng_key), None, num_samples)\n",
    "\n",
    "  return samples"
   ]
  },
  {
   "cell_type": "code",
   "execution_count": 3,
   "metadata": {},
   "outputs": [],
   "source": [
    "rng_key = jrnd.PRNGKey(1)"
   ]
  },
  {
   "cell_type": "code",
   "execution_count": 4,
   "metadata": {},
   "outputs": [
    {
     "data": {
      "text/plain": [
       "DeviceArray([[1.035393  , 0.94472396, 0.9813875 ],\n",
       "             [0.5938187 , 0.93434364, 1.3151302 ],\n",
       "             [0.50829834, 0.74971354, 1.3903047 ],\n",
       "             [1.0801375 , 1.1392491 , 0.66086346],\n",
       "             [0.8132634 , 1.3561089 , 0.11626202],\n",
       "             [0.74596715, 0.25006914, 0.22099783],\n",
       "             [0.26355907, 0.19394132, 0.42499414],\n",
       "             [0.40187183, 0.44570813, 0.37252545],\n",
       "             [0.2937717 , 0.757076  , 0.00482692],\n",
       "             [0.6341446 , 0.0391647 , 0.1550641 ],\n",
       "             [0.135018  , 0.9054813 , 1.4817276 ],\n",
       "             [0.16691567, 0.7839114 , 1.4554222 ],\n",
       "             [0.45004037, 0.6983323 , 0.21856627],\n",
       "             [0.32851306, 0.8990807 , 0.8106946 ],\n",
       "             [0.46958178, 0.945887  , 0.8042547 ],\n",
       "             [1.035112  , 1.0443119 , 0.37906447],\n",
       "             [1.1944005 , 1.4324472 , 0.10578489],\n",
       "             [1.7111918 , 1.58958   , 0.47994557],\n",
       "             [0.50697035, 1.5274148 , 1.1078554 ],\n",
       "             [0.7584119 , 1.1713858 , 1.2327645 ],\n",
       "             [0.19925383, 0.98898804, 0.9724119 ],\n",
       "             [0.32287607, 1.1130158 , 0.9709193 ],\n",
       "             [0.8498972 , 0.67172396, 1.2286917 ],\n",
       "             [1.0669822 , 0.5333991 , 2.0375888 ],\n",
       "             [0.19733292, 0.47127017, 0.9747911 ],\n",
       "             [0.8646769 , 0.4556395 , 0.02588114],\n",
       "             [0.7672124 , 0.50648206, 0.11471224],\n",
       "             [0.3379631 , 0.9209291 , 0.01828227],\n",
       "             [0.09476857, 0.7833256 , 0.4313806 ],\n",
       "             [0.10683782, 0.7547337 , 0.43513796],\n",
       "             [0.85254294, 0.12354599, 0.38604808],\n",
       "             [0.9589979 , 0.08685216, 0.38809308],\n",
       "             [0.6876969 , 0.10995759, 0.52168   ],\n",
       "             [0.8354577 , 0.47759223, 0.31226996],\n",
       "             [0.8751468 , 0.53669953, 0.13919114],\n",
       "             [0.91126645, 0.35856196, 0.2944458 ],\n",
       "             [0.909942  , 0.35926154, 0.28433776],\n",
       "             [0.39847448, 1.1949087 , 0.3963938 ],\n",
       "             [0.08008096, 0.8339663 , 0.2708679 ],\n",
       "             [0.94667023, 0.18690626, 0.38438973],\n",
       "             [0.7375477 , 0.43908224, 0.29859012],\n",
       "             [0.17985989, 0.23946834, 0.7742282 ],\n",
       "             [0.79117256, 0.05517106, 0.45779058],\n",
       "             [1.1179432 , 1.200371  , 0.08606752],\n",
       "             [1.9683646 , 0.60563374, 1.5876997 ],\n",
       "             [2.2038436 , 1.0103459 , 0.40716738],\n",
       "             [2.3131087 , 0.4142448 , 0.40467268],\n",
       "             [1.4938984 , 0.22962469, 0.25161374],\n",
       "             [0.7627739 , 0.90492874, 0.33416876],\n",
       "             [1.1745636 , 1.4475709 , 1.5065408 ]], dtype=float32)"
      ]
     },
     "execution_count": 4,
     "metadata": {},
     "output_type": "execute_result"
    }
   ],
   "source": [
    "elliptical_slice(jnp.ones(3), lambda x: jnp.log(jnp.all(x>0)), jnp.eye(3), 50, rng_key)"
   ]
  },
  {
   "cell_type": "code",
   "execution_count": null,
   "metadata": {},
   "outputs": [],
   "source": []
  }
 ],
 "metadata": {
  "kernelspec": {
   "display_name": "Python 3 (ipykernel)",
   "language": "python",
   "name": "python3"
  },
  "language_info": {
   "codemirror_mode": {
    "name": "ipython",
    "version": 3
   },
   "file_extension": ".py",
   "mimetype": "text/x-python",
   "name": "python",
   "nbconvert_exporter": "python",
   "pygments_lexer": "ipython3",
   "version": "3.9.13"
  }
 },
 "nbformat": 4,
 "nbformat_minor": 2
}
